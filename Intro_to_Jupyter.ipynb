{
  "metadata": {
    "language_info": {
      "codemirror_mode": {
        "name": "python",
        "version": 3
      },
      "file_extension": ".py",
      "mimetype": "text/x-python",
      "name": "python",
      "nbconvert_exporter": "python",
      "pygments_lexer": "ipython3",
      "version": "3.8"
    },
    "kernelspec": {
      "name": "python",
      "display_name": "Python (Pyodide)",
      "language": "python"
    }
  },
  "nbformat_minor": 4,
  "nbformat": 4,
  "cells": [
    {
      "cell_type": "markdown",
      "source": "# Intro to Jupyter",
      "metadata": {}
    },
    {
      "cell_type": "markdown",
      "source": "# Introduction\n\n### This notebook provides an introduction to Jupyter Notebook and covers various data science topics.",
      "metadata": {}
    },
    {
      "cell_type": "markdown",
      "source": "# List data science languages\n\n### - Python\n### - R\n### - Julia\n### - Scala",
      "metadata": {}
    },
    {
      "cell_type": "markdown",
      "source": "# List data science libraries.\n\n### - NumPy\n### - pandas\n### - Matplotlib\n### - Seaborn\n### - scikit-learn",
      "metadata": {}
    },
    {
      "cell_type": "markdown",
      "source": "# Table of Data Science tools\n\n| Tool       | Description           |\n|------------|-----------------------|\n| Jupyter    | Interactive notebook  |\n| TensorFlow | Deep learning library |\n| PyTorch    | Deep learning framework|\n| SQL        | Database querying     |",
      "metadata": {}
    },
    {
      "cell_type": "markdown",
      "source": "## In the following code cells, we will demonstrate arithmetic expressions in Python.\n",
      "metadata": {}
    },
    {
      "cell_type": "code",
      "source": "# Multiply 5 by 3 and add 7 to the result.\nresult = (5 * 3) + 7\nresult\n\n# Convert 120 minutes to hours.\nminutes = 120\nhours = minutes / 60\nhours",
      "metadata": {
        "trusted": true
      },
      "execution_count": 15,
      "outputs": [
        {
          "execution_count": 15,
          "output_type": "execute_result",
          "data": {
            "text/plain": "2.0"
          },
          "metadata": {}
        }
      ]
    },
    {
      "cell_type": "markdown",
      "source": "# Objectives:\n### 1. Introduce Jupyter Notebook.\n### 2. List data science languages and libraries.\n### 3. Create a table of Data Science tools.\n### 4. Demonstrate arithmetic expressions in Python.\n### 5. Perform basic arithmetic operations.\n### 6. Convert minutes to hours.",
      "metadata": {}
    },
    {
      "cell_type": "markdown",
      "source": "## José Eduardo R.",
      "metadata": {}
    }
  ]
}